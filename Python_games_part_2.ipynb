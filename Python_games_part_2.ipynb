{
  "nbformat": 4,
  "nbformat_minor": 0,
  "metadata": {
    "colab": {
      "name": "Python games part 2.ipynb",
      "provenance": [],
      "authorship_tag": "ABX9TyPAt0L+G6x48aF4uFPYTpWr",
      "include_colab_link": true
    },
    "kernelspec": {
      "name": "python3",
      "display_name": "Python 3"
    },
    "language_info": {
      "name": "python"
    }
  },
  "cells": [
    {
      "cell_type": "markdown",
      "metadata": {
        "id": "view-in-github",
        "colab_type": "text"
      },
      "source": [
        "<a href=\"https://colab.research.google.com/github/drm1072/Python-Functions/blob/main/Python_games_part_2.ipynb\" target=\"_parent\"><img src=\"https://colab.research.google.com/assets/colab-badge.svg\" alt=\"Open In Colab\"/></a>"
      ]
    },
    {
      "cell_type": "code",
      "metadata": {
        "colab": {
          "base_uri": "https://localhost:8080/"
        },
        "id": "gSsGnqw_TnDH",
        "outputId": "4b27fd1b-35da-479a-a1a3-cd2c5ab75125"
      },
      "source": [
        "print(\"Welcome to D Morgan Data Science Tic Tac Toe Game\")"
      ],
      "execution_count": 1,
      "outputs": [
        {
          "output_type": "stream",
          "text": [
            "Welcome to D Morgan Data Science Tic Tac Toe Game\n"
          ],
          "name": "stdout"
        }
      ]
    },
    {
      "cell_type": "code",
      "metadata": {
        "colab": {
          "base_uri": "https://localhost:8080/"
        },
        "id": "AHvkaBd7UAV8",
        "outputId": "9b686e1a-9585-4370-9445-0a10bdc3aaa0"
      },
      "source": [
        "print(\"The Tic Tac Toe boxes goes from 1 to 9\")"
      ],
      "execution_count": 2,
      "outputs": [
        {
          "output_type": "stream",
          "text": [
            "The Tic Tac Toe boxes goes from 1 to 9\n"
          ],
          "name": "stdout"
        }
      ]
    },
    {
      "cell_type": "code",
      "metadata": {
        "colab": {
          "base_uri": "https://localhost:8080/"
        },
        "id": "WlJ7BkrqUIi_",
        "outputId": "86413041-384a-48e9-81a2-621d09c8cdbe"
      },
      "source": [
        "print(\"1 is the top left box and 9 is considered the bottom right\")"
      ],
      "execution_count": 3,
      "outputs": [
        {
          "output_type": "stream",
          "text": [
            "1 is the top left box and 9 is considered the bottom right\n"
          ],
          "name": "stdout"
        }
      ]
    },
    {
      "cell_type": "code",
      "metadata": {
        "colab": {
          "base_uri": "https://localhost:8080/"
        },
        "id": "qZqnvgKlUR9k",
        "outputId": "15b723c3-ea54-4274-a06d-c127cdae074e"
      },
      "source": [
        "print(\"Let's Play\")"
      ],
      "execution_count": 4,
      "outputs": [
        {
          "output_type": "stream",
          "text": [
            "Let's Play\n"
          ],
          "name": "stdout"
        }
      ]
    },
    {
      "cell_type": "code",
      "metadata": {
        "id": "ngEsj_5tUWHh"
      },
      "source": [
        "#This is a library used for creating games.\n",
        "import random"
      ],
      "execution_count": 5,
      "outputs": []
    },
    {
      "cell_type": "code",
      "metadata": {
        "id": "MNr0OZe6UdmV"
      },
      "source": [
        "#Contains functions (for simple words) relevant for creating gamess\n",
        "#Allows your Python program to interact within a system in a more efficient way\n",
        "import sys"
      ],
      "execution_count": 6,
      "outputs": []
    },
    {
      "cell_type": "code",
      "metadata": {
        "id": "LDaiUpUTU5jg"
      },
      "source": [
        "board=[i for i in range(0,9)]\n",
        "player, computer = \", \""
      ],
      "execution_count": 7,
      "outputs": []
    },
    {
      "cell_type": "code",
      "metadata": {
        "id": "Hxh86jKxVJKU"
      },
      "source": [
        "#This is how you create the parameters for the game\n",
        "moves=((1,7,3,9),(5,),(2,4,6,8))"
      ],
      "execution_count": 8,
      "outputs": []
    },
    {
      "cell_type": "code",
      "metadata": {
        "id": "rrfMJZvgVeY7"
      },
      "source": [
        "#Setup Table\n",
        "tab=range(1,10)"
      ],
      "execution_count": 9,
      "outputs": []
    },
    {
      "cell_type": "code",
      "metadata": {
        "id": "XgK7uQuTVmNd"
      },
      "source": [
        "def print_board():\n",
        "    x=1 #4 spaces\n",
        "    for i in board: #4 spaces\n",
        "        end = ' ! ' #8 spaces\n",
        "        if x%3 == 0: #8 spaces\n",
        "            end = '\\n'  #12 spaces\n",
        "            if i != 1: end+='---------\\n'; #12 spaces\n",
        "        char=' ' #8 spaces\n",
        "        if i in ('x','o'): char=i; #8 spaces\n",
        "        x+1 #8 spaces\n",
        "        print(char, end=end) #8 spaces\n",
        "\n",
        "def select_char():\n",
        "    chars=('X','O') #4 spaces\n",
        "    if random.randint(0,1) == 0: #4 spaces\n",
        "        return chars[::-1] #8 spaces\n",
        "    return chars #4 spaces"
      ],
      "execution_count": 10,
      "outputs": []
    },
    {
      "cell_type": "code",
      "metadata": {
        "id": "W993GZEoX0-d"
      },
      "source": [
        "def can_move(brd, player, move):\n",
        "    if move in tab and brd[move-1] == move-1: #4 spaces\n",
        "        return True #8 spaces\n",
        "    return False #4 spaces\n",
        "\n",
        "def can_win(brd, player, move):\n",
        "    places=[] #4 spaces\n",
        "    x=0 #4 spaces\n",
        "    for i in brd: #4 spaces\n",
        "        if i == player: places.append(x); #8 spaces\n",
        "        x+=1 #8 spaces\n",
        "    win=True #4 spaces\n",
        "    for tup in winners: #4 spaces\n",
        "        win=True #8 spaces\n",
        "        for ix in tup: #8 spaces\n",
        "            if brd[ix] != player: #12 spaces\n",
        "                win=False #16 spaces\n",
        "        if win == True: #8 spaces\n",
        "            break #12 spaces\n",
        "    return win #4 spaces"
      ],
      "execution_count": 12,
      "outputs": []
    },
    {
      "cell_type": "code",
      "metadata": {
        "id": "_3Aln7hzZkJ0"
      },
      "source": [
        "def make_move(brd, player, move, undo=False):\n",
        "    if can_move(brd, player, move): #4 spaces\n",
        "        brd[move-1] = player #8 spaces\n",
        "        win=can_win(brd, player, move) #8 spaces\n",
        "        if undo: #8 spaces\n",
        "            brd[move-1] = move-1 #12 spaces\n",
        "        return (True, win) #8 spaces\n",
        "    return (False, False) #4 spaces\n",
        "\n",
        "#Gameplay functions go here for player and computer\n",
        "def computer_move():\n",
        "    move=-1 #4 spaces\n",
        "    #When player makes these moves, the player wins\n",
        "    for i in range(1,10): #4 spaces\n",
        "        if make_move(board, computer, i, True)[1]: #8 spaces\n",
        "            move=i #12 spaces\n",
        "            break #12 spaces\n",
        "   if move == -1: #4 spaces\n",
        "       #If player can win, block him.\n",
        "       for i in range(1,10): #8 spaces\n",
        "           if make_move(board, player, i, True)[1]: #12 spaces\n",
        "               mvoe=1 #16 spaces\n",
        "               break #16 spaces\n",
        "    if move == -1: #4 spaces\n",
        "      #Try to win\n",
        "      for tup in moves: #8 spaces\n",
        "          for mv in tup: #12 spaces\n",
        "              if move == -1 and can_move(board, computer, mv): #16 spaces\n",
        "                  move=mv\n",
        "                  break #20 spaces\n",
        "    return make_move(board, computer, move) #4 spaces    "
      ],
      "execution_count": 11,
      "outputs": []
    },
    {
      "cell_type": "code",
      "metadata": {
        "colab": {
          "base_uri": "https://localhost:8080/"
        },
        "id": "amV35VwGug36",
        "outputId": "d04a6ff4-449d-49ed-c26f-6cf923046bec"
      },
      "source": [
        "def space_exist():\n",
        "    return board.count('X') + board.count('O') !=9 #4 spaces\n",
        "\n",
        "player, computer = select_char()\n",
        "print('Player is [%s] and computer is [%s]' % (player, computer))\n",
        "result= 'Play Again'\n",
        "while space_exist():\n",
        "    print_board() #4 spaces\n",
        "    print('# Lets Play ! [Press 1-9 to choose your move!] : ', end='') #4 spaces\n",
        "    move = int(input()) #4 spaces\n",
        "    moved, won = make_move(board, player, move) #4 spaces\n",
        "    if not moved: #4 spaces\n",
        "        print(' >> Invalid number! Try again!') #8 spaces\n",
        "        continue # 8 spaces\n",
        "\n",
        "    #\n",
        "    if won: #4 spaces\n",
        "        result='*** You are the winner ! ***' #8 spaces\n",
        "        break #8 spaces\n",
        "    elif computer_move()[1]: #4 spaces\n",
        "        result='=== You are a loser :( =='\n",
        "        break; #8 spaces\n",
        "\n",
        "print_board\n",
        "print(result)"
      ],
      "execution_count": null,
      "outputs": [
        {
          "output_type": "stream",
          "text": [
            "Player is [X] and computer is [O]\n",
            "  !   !   !   !   !   !   !   !   ! # Lets Play ! [Press 1-9 to choose your move!] : "
          ],
          "name": "stdout"
        }
      ]
    }
  ]
}